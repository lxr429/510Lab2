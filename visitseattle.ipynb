{
 "cells": [
  {
   "cell_type": "code",
   "execution_count": 1,
   "metadata": {},
   "outputs": [],
   "source": [
    "import requests"
   ]
  },
  {
   "cell_type": "code",
   "execution_count": 3,
   "metadata": {},
   "outputs": [],
   "source": [
    "url=\"https://visitseattle.org/events/page/1/\"\n",
    "# Create → POST\n",
    "# Read → GET \n",
    "# Update → PUT\n",
    "# Delete → DELETE\n",
    "\n",
    "\n",
    "res = requests.get(url)\n"
   ]
  },
  {
   "cell_type": "code",
   "execution_count": 16,
   "metadata": {},
   "outputs": [
    {
     "data": {
      "text/plain": [
       "200"
      ]
     },
     "execution_count": 16,
     "metadata": {},
     "output_type": "execute_result"
    }
   ],
   "source": [
    "#200 ok\n",
    "#400 bad requests\n",
    "#500 error\n",
    "res.status_code"
   ]
  },
  {
   "cell_type": "code",
   "execution_count": 17,
   "metadata": {},
   "outputs": [
    {
     "data": {
      "text/plain": [
       "181700"
      ]
     },
     "execution_count": 17,
     "metadata": {},
     "output_type": "execute_result"
    }
   ],
   "source": [
    "open(\"seattleevents.html\", \"w\").write(res.text)"
   ]
  },
  {
   "cell_type": "code",
   "execution_count": 18,
   "metadata": {},
   "outputs": [],
   "source": [
    "from bs4 import BeautifulSoup"
   ]
  },
  {
   "cell_type": "code",
   "execution_count": 19,
   "metadata": {},
   "outputs": [],
   "source": [
    "soup = BeautifulSoup(res.text, \"html.parser\")"
   ]
  },
  {
   "cell_type": "code",
   "execution_count": 20,
   "metadata": {},
   "outputs": [
    {
     "data": {
      "text/plain": [
       "[<a href=\"https://visitseattle.org/events/glen-teriyaki/\" title=\"Glen Teriyaki\">Glen Teriyaki </a>,\n",
       " <a href=\"https://visitseattle.org/events/greta-matassa-sextet/\" title=\"Greta Matassa Sextet\">Greta Matassa Sextet </a>,\n",
       " <a href=\"https://visitseattle.org/events/holding-absence/\" title=\"Holding Absence\">Holding Absence </a>,\n",
       " <a href=\"https://visitseattle.org/events/nellie-mckay/\" title=\"Nellie McKay\">Nellie McKay </a>,\n",
       " <a href=\"https://visitseattle.org/events/amber-liu/\" title=\"Amber Liu\">Amber Liu </a>,\n",
       " <a href=\"https://visitseattle.org/events/disability-justice/\" title=\"Disability Justice\">Disability Justice </a>,\n",
       " <a href=\"https://visitseattle.org/events/hughes-bros-presents/\" title=\"Hughes Bros Presents\">Hughes Bros Presents </a>,\n",
       " <a href=\"https://visitseattle.org/events/sarya-wu/\" title=\"sarya wu\">sarya wu </a>,\n",
       " <a href=\"https://visitseattle.org/events/the-sweet-lillies/\" title=\"The Sweet Lillies\">The Sweet Lillies </a>]"
      ]
     },
     "execution_count": 20,
     "metadata": {},
     "output_type": "execute_result"
    }
   ],
   "source": [
    "selector = \"div.search-result-preview > div > h3 > a\"\n",
    "a_eles = soup.select(selector)\n",
    "a_eles"
   ]
  },
  {
   "cell_type": "code",
   "execution_count": 21,
   "metadata": {},
   "outputs": [
    {
     "data": {
      "text/plain": [
       "['https://visitseattle.org/events/glen-teriyaki/',\n",
       " 'https://visitseattle.org/events/greta-matassa-sextet/',\n",
       " 'https://visitseattle.org/events/holding-absence/',\n",
       " 'https://visitseattle.org/events/nellie-mckay/',\n",
       " 'https://visitseattle.org/events/amber-liu/',\n",
       " 'https://visitseattle.org/events/disability-justice/',\n",
       " 'https://visitseattle.org/events/hughes-bros-presents/',\n",
       " 'https://visitseattle.org/events/sarya-wu/',\n",
       " 'https://visitseattle.org/events/the-sweet-lillies/']"
      ]
     },
     "execution_count": 21,
     "metadata": {},
     "output_type": "execute_result"
    }
   ],
   "source": [
    "[x['href'] for x in a_eles]"
   ]
  },
  {
   "cell_type": "code",
   "execution_count": null,
   "metadata": {},
   "outputs": [],
   "source": [
    "event_list = []\n",
    "\n",
    "for i in range(1, 41):\n",
    "    url = f\"https://visitseattle.org/events/page/{i}\"\n",
    "    response = requests.get(url)\n",
    "    \n",
    "    if response.status_code == 200:\n",
    "        soup = BeautifulSoup(response.text, 'html.parser')\n",
    "        selector = \"div.search-result-preview > div > h3 > a\"\n",
    "        a_eles = soup.select (selector)\n",
    "        event_list += [x['href']for x in a_eles]\n",
    "\n",
    "print('Event List:', event_list)"
   ]
  }
 ],
 "metadata": {
  "kernelspec": {
   "display_name": "Python 3",
   "language": "python",
   "name": "python3"
  },
  "language_info": {
   "codemirror_mode": {
    "name": "ipython",
    "version": 3
   },
   "file_extension": ".py",
   "mimetype": "text/x-python",
   "name": "python",
   "nbconvert_exporter": "python",
   "pygments_lexer": "ipython3",
   "version": "3.11.5"
  }
 },
 "nbformat": 4,
 "nbformat_minor": 2
}
