{
 "cells": [
  {
   "cell_type": "code",
   "execution_count": 1,
   "metadata": {},
   "outputs": [
    {
     "name": "stdout",
     "output_type": "stream",
     "text": [
      "Requirement already satisfied: requests in /Users/linxiran/anaconda3/lib/python3.11/site-packages (from -r requirements.txt (line 1)) (2.31.0)\n",
      "Requirement already satisfied: beautiful in /Users/linxiran/anaconda3/lib/python3.11/site-packages (from -r requirements.txt (line 2)) (0.0.2)\n",
      "Requirement already satisfied: charset-normalizer<4,>=2 in /Users/linxiran/anaconda3/lib/python3.11/site-packages (from requests->-r requirements.txt (line 1)) (2.0.4)\n",
      "Requirement already satisfied: idna<4,>=2.5 in /Users/linxiran/anaconda3/lib/python3.11/site-packages (from requests->-r requirements.txt (line 1)) (3.4)\n",
      "Requirement already satisfied: urllib3<3,>=1.21.1 in /Users/linxiran/anaconda3/lib/python3.11/site-packages (from requests->-r requirements.txt (line 1)) (1.26.16)\n",
      "Requirement already satisfied: certifi>=2017.4.17 in /Users/linxiran/anaconda3/lib/python3.11/site-packages (from requests->-r requirements.txt (line 1)) (2023.11.17)\n"
     ]
    }
   ],
   "source": [
    "! pip install -r requirements.txt\n"
   ]
  },
  {
   "cell_type": "code",
   "execution_count": 2,
   "metadata": {},
   "outputs": [],
   "source": [
    "import requests\n",
    "from bs4 import BeautifulSoup\n",
    "import time"
   ]
  },
  {
   "cell_type": "code",
   "execution_count": 3,
   "metadata": {},
   "outputs": [
    {
     "name": "stdout",
     "output_type": "stream",
     "text": [
      "['https://visitseattle.org/events/amber-liu/', 'https://visitseattle.org/events/disability-justice/', 'https://visitseattle.org/events/hughes-bros-presents/', 'https://visitseattle.org/events/sarya-wu/', 'https://visitseattle.org/events/the-sweet-lillies/', 'https://visitseattle.org/events/dinosaur-jr/', 'https://visitseattle.org/events/black-dogs/', 'https://visitseattle.org/events/blue-elephant-and-the-seven-snakes/', 'https://visitseattle.org/events/brock-lanzetti-ogawa/', 'https://visitseattle.org/events/fact-and-fiction-the-lord-of-the-rings/', 'https://visitseattle.org/events/groundation/', 'https://visitseattle.org/events/kayla-min-andrews/', 'https://visitseattle.org/events/ol-doris/', 'https://visitseattle.org/events/rosetan/', 'https://visitseattle.org/events/untold-stories-wire-life-and-art-with-kristin-tollefson/', 'https://visitseattle.org/events/y-la-bamba/', 'https://visitseattle.org/events/dead-bars/', 'https://visitseattle.org/events/emotional-a-night-for-the-heartbroken/', 'https://visitseattle.org/events/loonieboys/', 'https://visitseattle.org/events/corteo/', 'https://visitseattle.org/events/bewitcher/', 'https://visitseattle.org/events/burn-burn-burn/', 'https://visitseattle.org/events/carly-ann-calbero/', 'https://visitseattle.org/events/el-primer-instinto/', 'https://visitseattle.org/events/gary-janetti/', 'https://visitseattle.org/events/jammah/', 'https://visitseattle.org/events/saturday-family-concert-the-harmonica-pocket/', 'https://visitseattle.org/events/seattle-thunderbirds-vs-tri-city-americans-2/', 'https://visitseattle.org/events/hokusai-inspiration-and-influence-from-the-collection-of-the-museum-of-fine-arts-boston/', 'https://visitseattle.org/events/an-evening-with-chris-botti/', 'https://visitseattle.org/events/blueys-big-play/', 'https://visitseattle.org/events/mike-birbiglia-please-stop-the-ride/', 'https://visitseattle.org/events/austin-plaine/', 'https://visitseattle.org/events/seattle-kraken-vs-toronto-maple-leafs/', 'https://visitseattle.org/events/kate-alice-marshall/', 'https://visitseattle.org/events/machine-head/', 'https://visitseattle.org/events/silent-movie-mondays-safety-last/', 'https://visitseattle.org/events/life-on-thin-ice-national-geographic-live/', 'https://visitseattle.org/events/buck-meek/', 'https://visitseattle.org/events/curator-tour-joseph-a-witt-winter-garden/', 'https://visitseattle.org/events/synthwave-dj-dance-party/', 'https://visitseattle.org/events/wiley-from-atlanta/', 'https://visitseattle.org/events/winter-reverb/', 'https://visitseattle.org/events/tribute-to-john-williams/', 'https://visitseattle.org/events/lakecia-benjamin-and-phoenix/', 'https://visitseattle.org/events/corey-harper/', 'https://visitseattle.org/events/dj-shadow/', 'https://visitseattle.org/events/opera-on-tap/', 'https://visitseattle.org/events/pbs-peter-band-supreme/', 'https://visitseattle.org/events/seattle-kraken-vs-chicago-blackhawks-2/', 'https://visitseattle.org/events/silent-planet/', 'https://visitseattle.org/events/stuff-you-should-know/', 'https://visitseattle.org/events/the-cooking-gene/', 'https://visitseattle.org/events/aryana-leon/', 'https://visitseattle.org/events/colorworks/', 'https://visitseattle.org/events/dar-williams/', 'https://visitseattle.org/events/deb-perelman/', 'https://visitseattle.org/events/emanuel-brown/', 'https://visitseattle.org/events/james-miles/', 'https://visitseattle.org/events/madeline-pendleton/', 'https://visitseattle.org/events/october-london/', 'https://visitseattle.org/events/tacoma-stars-vs-empire-strykers/', 'https://visitseattle.org/events/dungeons-and-drag-queens/', 'https://visitseattle.org/events/global-rhythms-yungchen-lhamo/', 'https://visitseattle.org/events/harlem-globetrotters-2024-world-tour/', 'https://visitseattle.org/events/seattle-kraken-vs-st-louis-blues/', 'https://visitseattle.org/events/shelf-nunny/', 'https://visitseattle.org/events/super-diamond-the-neil-diamond-tribute-band/', 'https://visitseattle.org/events/the-disorderlies-2/', 'https://visitseattle.org/events/compania-nacional-de-danza/', 'https://visitseattle.org/events/metropolis/', 'https://visitseattle.org/events/andy-coe-band/', 'https://visitseattle.org/events/harlem-globetrotters/', 'https://visitseattle.org/events/seattle-thunderbirds-vs-everett-silvertips-2/', 'https://visitseattle.org/events/the-budos-band/', 'https://visitseattle.org/events/the-human-family/', 'https://visitseattle.org/events/steinunn-porarinsdottir-wayfinders/', 'https://visitseattle.org/events/hanako-oleary-izanami/', 'https://visitseattle.org/events/gage-alumni-show/', 'https://visitseattle.org/events/bohemia/', 'https://visitseattle.org/events/lee-ritenour-and-dave-grusin/', 'https://visitseattle.org/events/celebrate-asia/', 'https://visitseattle.org/events/family-day-with-birds-connect-seattle/', 'https://visitseattle.org/events/seattle-kraken-vs-columbus-blue-jackets/', 'https://visitseattle.org/events/tacoma-stars-vs-san-diego-sockers-3/', 'https://visitseattle.org/events/adira-sharkey/', 'https://visitseattle.org/events/car-the-garden/', 'https://visitseattle.org/events/cheryl-wheeler/', 'https://visitseattle.org/events/giantish/', 'https://visitseattle.org/events/seattle-thunderbirds-vs-prince-george-cougars-2/', 'https://visitseattle.org/events/a-political-rocks/', 'https://visitseattle.org/events/sophia-al-maria/', 'https://visitseattle.org/events/jahari-stampley/', 'https://visitseattle.org/events/fraktured-home-of-the-broken-beat/', 'https://visitseattle.org/events/g3-25th-anniversary-reunion/', 'https://visitseattle.org/events/jp-saxe/', 'https://visitseattle.org/events/los-lobos/', 'https://visitseattle.org/events/babytron/', 'https://visitseattle.org/events/catalyzing-change-with-akuyea-karen-vargas/', 'https://visitseattle.org/events/jamila-woods/', 'https://visitseattle.org/events/jazz-is-dead-blue-note-85/', 'https://visitseattle.org/events/michelle-cann/', 'https://visitseattle.org/events/pakt/', 'https://visitseattle.org/events/erik-walters/', 'https://visitseattle.org/events/memoir/', 'https://visitseattle.org/events/nora-en-pure/', 'https://visitseattle.org/events/poolside/', 'https://visitseattle.org/events/tacoma-stars-vs-monterrey-flash/', 'https://visitseattle.org/events/jaha-koo-the-history-of-korean-western-theatre/', 'https://visitseattle.org/events/the-winds-medley-of-emotions/', 'https://visitseattle.org/events/all-will-suffer/', 'https://visitseattle.org/events/cold-war-kids-20-years-tour/', 'https://visitseattle.org/events/mau-p/', 'https://visitseattle.org/events/randy-rainbow-for-president/', 'https://visitseattle.org/events/the-delta-bombers/', 'https://visitseattle.org/events/seattle-chamber-music-winter-festival/', 'https://visitseattle.org/events/beethoven-emperor-concerto/', 'https://visitseattle.org/events/sergio-mendes/', 'https://visitseattle.org/events/daniel-tigers-neighborhood/', 'https://visitseattle.org/events/lil-skies/', 'https://visitseattle.org/events/criminal/', 'https://visitseattle.org/events/neck-deep/', 'https://visitseattle.org/events/kazu-kibuishi-with-donna-barba-higuera/', 'https://visitseattle.org/events/night-lovell/', 'https://visitseattle.org/events/soja/', 'https://visitseattle.org/events/kenny-barron-trio/', 'https://visitseattle.org/events/tamara-payne-the-life-and-legacy-of-malcolm-x/', 'https://visitseattle.org/events/the-kills/', 'https://visitseattle.org/events/an-evening-with-tina-campt-black-feminist-visual-culture/', 'https://visitseattle.org/events/art-and-transformation/', 'https://visitseattle.org/events/eric-bellinger/', 'https://visitseattle.org/events/futurebirds-and-nude-party/', 'https://visitseattle.org/events/ilana-glazer-live/', 'https://visitseattle.org/events/mister-blank/', 'https://visitseattle.org/events/the-thorn/', 'https://visitseattle.org/events/barry-cant-swim/', 'https://visitseattle.org/events/dark-star-orchestra/', 'https://visitseattle.org/events/govt-mule/', 'https://visitseattle.org/events/mayer-hawthorne/', 'https://visitseattle.org/events/moontricks/', 'https://visitseattle.org/events/oboe-oboe/', 'https://visitseattle.org/events/seattle-boat-show/', 'https://visitseattle.org/events/randall-goosby-plays-mozart/', 'https://visitseattle.org/events/art-by-design/', 'https://visitseattle.org/events/brazilian-carnaval-2024/', 'https://visitseattle.org/events/chase-rice/', 'https://visitseattle.org/events/joe-mr-d-dombrowski/', 'https://visitseattle.org/events/jvna/', 'https://visitseattle.org/events/the-temptations-the-four-tops/', 'https://visitseattle.org/events/quixote-nuevo/', 'https://visitseattle.org/events/kent-stowells-swan-lake/', 'https://visitseattle.org/events/blood-sweat-and-tears/', 'https://visitseattle.org/events/love-at-the-zoo/', 'https://visitseattle.org/events/scott-bradlees-postmodern-jukebox/', 'https://visitseattle.org/events/tourist-and-amtrac/', 'https://visitseattle.org/events/eliades-ochoa/', 'https://visitseattle.org/events/k-wayne-yang/', 'https://visitseattle.org/events/maddie-zahm/', 'https://visitseattle.org/events/cory-wong-winter-2024-tour/', 'https://visitseattle.org/events/circahumans-2-0/', 'https://visitseattle.org/events/jon-batiste/', 'https://visitseattle.org/events/tobymac-hits-deep-2024/', 'https://visitseattle.org/events/a-case-for-the-existence-of-god/', 'https://visitseattle.org/events/northwest-flower-garden-festival/', 'https://visitseattle.org/events/the-princess-bride-in-concert-with-the-seattle-symphony/', 'https://visitseattle.org/events/mindi-abair-wine-and-jazz-tour-2024/', 'https://visitseattle.org/events/madonna/', 'https://visitseattle.org/events/meet-the-author-maggie-taft-the-chieftain-and-the-chair/', 'https://visitseattle.org/events/seattle-kraken-vs-detroit-red-wings/', 'https://visitseattle.org/events/from-mozart-to-matthews/', 'https://visitseattle.org/events/lukas-nelson/', 'https://visitseattle.org/events/mahogany-smartfilms-black-luxury/', 'https://visitseattle.org/events/wu-han-philip-setzer-david-finckel/', 'https://visitseattle.org/events/the-cookers/', 'https://visitseattle.org/events/side-by-side-with-seattle-youth-symphony-orchestra/', 'https://visitseattle.org/events/seattle-kraken-vs-vancouver-canucks/', 'https://visitseattle.org/events/funky-friday-with-f2d/', 'https://visitseattle.org/events/blackstar-symphony-the-music-of-david-bowie/', 'https://visitseattle.org/events/opera-talk-the-making-of-x/', 'https://visitseattle.org/events/wreckno/', 'https://visitseattle.org/events/kelly-akashi/', 'https://visitseattle.org/events/the-lower-depths/', 'https://visitseattle.org/events/dan-brown-wild-symphony/', 'https://visitseattle.org/events/pink-sweat/', 'https://visitseattle.org/events/seattle-kraken-vs-minnesota-wild-2/', 'https://visitseattle.org/events/small-island-big-song/', 'https://visitseattle.org/events/born-with-teeth/', 'https://visitseattle.org/events/once-more-just-for-you/', 'https://visitseattle.org/events/wintergrass-music-festival/', 'https://visitseattle.org/events/seattle-kraken-vs-boston-bruins/', 'https://visitseattle.org/events/hunt-for-sleeping-giants-national-geographic-live/', 'https://visitseattle.org/events/playboi-carti/', 'https://visitseattle.org/events/winter-brilliance/', 'https://visitseattle.org/events/seattle-museum-month/', 'https://visitseattle.org/events/seattle-kraken-vs-pittsburgh-penguins/', 'https://visitseattle.org/events/the-human-family-2/', 'https://visitseattle.org/events/fall-out-boy/', 'https://visitseattle.org/events/tacoma-stars-vs-harrisburg-heat/', 'https://visitseattle.org/events/conrad-taos-playlist/', 'https://visitseattle.org/events/seattle-kraken-vs-edmonton-oilers/', 'https://visitseattle.org/events/emerald-city-comic-con/', 'https://visitseattle.org/events/tacoma-stars-vs-harrisburg-heat-2/', 'https://visitseattle.org/events/calidore-quartet-abeo-quartet/', 'https://visitseattle.org/events/holding-movement/', 'https://visitseattle.org/events/seattle-kraken-vs-winnipeg-jets/', 'https://visitseattle.org/events/xthe-life-and-times-of-malcolm-x/', 'https://visitseattle.org/events/bach-st-john-passion/', 'https://visitseattle.org/events/helene-grimaud/', 'https://visitseattle.org/events/positive-fragmentation/', 'https://visitseattle.org/events/antonio-m-gomez-lineajes/', 'https://visitseattle.org/events/soren-solkaer-sort-sol/', 'https://visitseattle.org/events/luchadora/', 'https://visitseattle.org/events/wild-cats-revealed-national-geographic-live/', 'https://visitseattle.org/events/seattle-kraken-vs-vegas-golden-knights/', 'https://visitseattle.org/events/seattle-kraken-vs-washington-capitals/', 'https://visitseattle.org/events/mark-morris-dance-group-the-look-of-love/', 'https://visitseattle.org/events/sibelius-nielsen/', 'https://visitseattle.org/events/tacoma-stars-vs-chihuahua-savage/', 'https://visitseattle.org/events/seattle-kraken-vs-nashville-predators/', 'https://visitseattle.org/events/native-portraiture-power-and-perception/', 'https://visitseattle.org/events/places-to-call-home-settlements-in-the-west/', 'https://visitseattle.org/events/nobody-lives-here/', 'https://visitseattle.org/events/rootabaga-country/', 'https://visitseattle.org/events/seattle-kraken-vs-buffalo-sabres/', 'https://visitseattle.org/events/tacoma-stars-vs-empire-strykers-2/', 'https://visitseattle.org/events/somethings-afoot/', 'https://visitseattle.org/events/one-thousand-pieces/', 'https://visitseattle.org/events/simon-trpceski-plays-tchaikovsky/', 'https://visitseattle.org/events/seattle-kraken-vs-montreal-canadiens/', 'https://visitseattle.org/events/seattle-kraken-vs-anaheim-ducks/', 'https://visitseattle.org/events/seattle-kraken-vs-anaheim-ducks-2/', 'https://visitseattle.org/events/tim-mcgraw/', 'https://visitseattle.org/events/harold-and-the-purple-crayon/', 'https://visitseattle.org/events/seattle-kraken-vs-dallas-stars/', 'https://visitseattle.org/events/illuminate-glass-art-for-early-learners/', 'https://visitseattle.org/events/al-youngs-1970-dodge-challenger-drag-racer/', 'https://visitseattle.org/events/sanctuary-city/', 'https://visitseattle.org/events/stew/', 'https://visitseattle.org/events/luis-miguel/', 'https://visitseattle.org/events/taylor-raven-and-duke-kim-in-recital/', 'https://visitseattle.org/events/copland-appalachian-spring/', 'https://visitseattle.org/events/la-vaughn-belle-a-history-of-unruly-returns/', 'https://visitseattle.org/events/beetlejuice/', 'https://visitseattle.org/events/seattle-kraken-vs-arizona-coyotes/', 'https://visitseattle.org/events/seattle-kraken-vs-san-jose-sharks/', 'https://visitseattle.org/events/the-percussion-sounds-from-home/', 'https://visitseattle.org/events/honoring-50-years-of-papunya-tula-painting/', 'https://visitseattle.org/events/the-moors/', 'https://visitseattle.org/events/mahler-symphony-no-3/', 'https://visitseattle.org/events/best-of-the-northwest-spring-show/', 'https://visitseattle.org/events/an-evening-with-jinjoo-cho/', 'https://visitseattle.org/events/dvorak-symphony-no-6/', 'https://visitseattle.org/events/the-seasons-canon/', 'https://visitseattle.org/events/drum-tao-30th-anniversary/', 'https://visitseattle.org/events/disneys-aladdin/', 'https://visitseattle.org/events/antarctic-symphony/', 'https://visitseattle.org/events/shine-on-seattle/', 'https://visitseattle.org/events/noah-gellers-playlist/', 'https://visitseattle.org/events/broadway-spectacular/', 'https://visitseattle.org/events/jessica-jackson-hutchins-wrecked-and-righteous/', 'https://visitseattle.org/events/the-lion-tells-his-tale/', 'https://visitseattle.org/events/guma-gela-part-land-part-sea-all-ancestry/', 'https://visitseattle.org/events/fat-ham/', 'https://visitseattle.org/events/a-tale-of-peter-rabbit/', 'https://visitseattle.org/events/the-lehman-trilogy/', 'https://visitseattle.org/events/the-untold-story-of-sharks-national-geographic-live/', 'https://visitseattle.org/events/mother/', 'https://visitseattle.org/events/barber-violin-concerto/', 'https://visitseattle.org/events/the-barber-of-seville/', 'https://visitseattle.org/events/unriveled/', 'https://visitseattle.org/events/george-balenchines-coppelia/', 'https://visitseattle.org/events/jan-lisiecki-plays-prokofiev/', 'https://visitseattle.org/events/beethoven-symphony-no-5/', 'https://visitseattle.org/events/elizabeth-malaska-all-be-your-mirror/', 'https://visitseattle.org/events/joshua-bell-plays-elements-concerto/', 'https://visitseattle.org/events/together-again-again/', 'https://visitseattle.org/events/lip-sync-for-our-rights/', 'https://visitseattle.org/events/company/', 'https://visitseattle.org/events/2024-university-of-washington-mfa-mdes-thesis-exhibition/', 'https://visitseattle.org/events/spring-awakening/', 'https://visitseattle.org/events/girl-from-the-north-country/', 'https://visitseattle.org/events/nordic-utopia-african-americans-in-the-20th-century/', 'https://visitseattle.org/events/clue/', 'https://visitseattle.org/events/be-water-my-friend-the-teachings-of-bruce-lee/', 'https://visitseattle.org/events/olivia-rodrigo/', 'https://visitseattle.org/events/hidden-worlds-the-films-of-laika/', 'https://visitseattle.org/events/sound-check-the-music-we-make/', 'https://visitseattle.org/events/raul-de-nieves/', 'https://visitseattle.org/events/frye-salon/', 'https://visitseattle.org/events/on-native-land-landscapes-from-the-haub-family-collection/', 'https://visitseattle.org/events/washi-transformed-new-expressions-in-japanese-paper/', 'https://visitseattle.org/events/explore-the-market/', 'https://visitseattle.org/events/olympic-sculpture-park/', 'https://visitseattle.org/events/infinite-worlds-of-science-fiction/', 'https://visitseattle.org/events/wild-blue-angel-hendrix-abroad-1966-70/', 'https://visitseattle.org/events/john-grade-middle-fork/', 'https://visitseattle.org/events/scared-to-death-the-thrill-of-horror-film/', 'https://visitseattle.org/events/nirvana-taking-punk-to-the-masses/', 'https://visitseattle.org/events/vietnam-divided-war-above-southeast-asia/', 'https://visitseattle.org/events/science-fiction-and-fantasy-hall-of-fame/', 'https://visitseattle.org/events/cambodian-cultural-museum-and-killing-fields-memorial/', 'https://visitseattle.org/events/honoring-our-journey/', 'https://visitseattle.org/events/spotlight-on-dale-chihuly-works-from-museum-of-glass-permanent-collection/', 'https://visitseattle.org/events/great-hall-of-washington-history/', 'https://visitseattle.org/events/humboldt-penguin-exhibit/', 'https://visitseattle.org/events/giant-pacific-octopus/', 'https://visitseattle.org/events/meet-our-marine-mammals/', 'https://visitseattle.org/events/window-on-washington-waters/', 'https://visitseattle.org/events/guitar-gallery/', 'https://visitseattle.org/events/nordic-journeys/', 'https://visitseattle.org/events/bairds-beaked-whale/', 'https://visitseattle.org/events/amazing-life/', 'https://visitseattle.org/events/culture-is-living/', 'https://visitseattle.org/events/fossils-uncovered/', 'https://visitseattle.org/events/northwest-native-art/', 'https://visitseattle.org/events/our-material-world/', 'https://visitseattle.org/events/apollo/', 'https://visitseattle.org/events/art-and-life-along-the-northwest-coast/', 'https://visitseattle.org/events/washington-my-home/', 'https://visitseattle.org/events/sensory-friendly-programs/', 'https://visitseattle.org/events/dale-chihuly-at-tacoma-art-museum/', 'https://visitseattle.org/events/be-longing-contemporary-asian-art/', 'https://visitseattle.org/events/porcelain-room/', 'https://visitseattle.org/events/life-on-the-edge/', 'https://visitseattle.org/events/tropical-pacific/', 'https://visitseattle.org/events/underwater-dome/', 'https://visitseattle.org/events/meet-the-animals/', 'https://visitseattle.org/events/chihuly-garden-and-glass/', 'https://visitseattle.org/events/discover-ancient-coast-salish-culture/', 'https://visitseattle.org/events/savor-seattle-signature-tour-pike-place-market/', 'https://visitseattle.org/events/untold-stories-world-war-ii-at-75/', 'https://visitseattle.org/events/bezos-center-for-innovation/', 'https://visitseattle.org/events/maritime-seattle/', 'https://visitseattle.org/events/true-northwest-the-seattle-journey/', 'https://visitseattle.org/events/metaphor-into-form-art-in-the-era-of-the-pilchuck-glass-school/', 'https://visitseattle.org/events/winter-in-the-west/', 'https://visitseattle.org/events/ballard-farmers-market-sunday/', 'https://visitseattle.org/events/capitol-hill-farmers-market-sunday/', 'https://visitseattle.org/events/university-district-farmers-market/', 'https://visitseattle.org/events/fremont-sunday-market/', 'https://visitseattle.org/events/chihuly-garden-and-glass-gallery-talks-tours/', 'https://visitseattle.org/events/boundless-stories-of-asian-art/', 'https://visitseattle.org/events/kenzan-tsutakawa-chinn-gather/', 'https://visitseattle.org/events/art-walk-edmonds-every-third-thursday/', 'https://visitseattle.org/events/rise-up-stonewall-and-the-lgbtq-rights-movement/', 'https://visitseattle.org/events/show-me-seattle-tours/', 'https://visitseattle.org/events/lemay-americas-car-museum/', 'https://visitseattle.org/events/history-link-tours/', 'https://visitseattle.org/events/west-seattle-farmers-market-sundays/', 'https://visitseattle.org/events/remembrance-the-legacy-of-executive-order-9066-in-washington-state/', 'https://visitseattle.org/events/pioneer-square-first-thursday-art-walk/', 'https://visitseattle.org/events/deities-and-demons-supernatural-in-japanese-art/', 'https://visitseattle.org/events/american-art-the-stories-we-carry/', 'https://visitseattle.org/events/pacific-species/', 'https://visitseattle.org/events/reverberations-contemporary-art-and-modern-classics/', 'https://visitseattle.org/events/75-years-of-porsche/', 'https://visitseattle.org/events/manazma-sheen/']\n"
     ]
    }
   ],
   "source": [
    "event_list = []\n",
    "\n",
    "for i in range(1, 41):\n",
    "    url = \"https://visitseattle.org/events/page/\"+str(i)\n",
    "\n",
    "    # time.sleep(1) #wait for 1 second\n",
    "    res = requests.get(url) #read information from the server\n",
    "\n",
    "    # check if the server response is ok\n",
    "    if res.status_code == 200:\n",
    "        soup = BeautifulSoup(res.text, \"html.parser\")\n",
    "        selector = \"div.search-result-preview > div > h3 > a\"\n",
    "        a_eles = soup.select(selector)\n",
    "\n",
    "        #add lists of events to event_list\n",
    "        event_list += [x['href'] for x in a_eles]\n",
    "\n",
    "print (event_list)"
   ]
  },
  {
   "cell_type": "code",
   "execution_count": 4,
   "metadata": {},
   "outputs": [],
   "source": [
    "import csv"
   ]
  },
  {
   "cell_type": "code",
   "execution_count": 5,
   "metadata": {},
   "outputs": [],
   "source": [
    "with open('event_list.csv', 'w', newline = '') as f:\n",
    "    #create a csv writer object\n",
    "    writer = csv.writer(f)\n",
    "\n",
    "    # write the header\n",
    "    writer.writerow([\"Name\", \"Date & Time\", \"Location\", \"Type\", \"Region\"])\n",
    "\n",
    "    # loop through each event and write data to csv file\n",
    "    for event_url in event_list:\n",
    "        res = requests.get(event_url)\n",
    "\n",
    "        # check if the server response is ok\n",
    "        if res.status_code == 200:\n",
    "            event_info = []\n",
    "            # parse the html text\n",
    "            soup = BeautifulSoup(res.text, \"html.parser\")\n",
    "            # Name; date + timm; Location; Type; Region\n",
    "            name_selector = \"div.medium-6.columns.event-top > h1\"\n",
    "            name_eles = soup.select(name_selector)\n",
    "            event_info.append(name_eles[0].text)\n",
    "            \n",
    "            date_and_time_selector = \"div.medium-6.columns.event-top > h4 > span:nth-child(1)\"\n",
    "            date_and_time_eles = soup.select(date_and_time_selector)\n",
    "            event_info.append(date_and_time_eles[0].text)\n",
    "\n",
    "            location_selector = \"div.medium-6.columns.event-top > h4 > span:nth-child(2)\"\n",
    "            location_eles = soup.select(location_selector)\n",
    "            event_info.append(location_eles[0].text)\n",
    "\n",
    "            type_selector = \"div.medium-6.columns.event-top > a:nth-child(3)\"\n",
    "            type_eles = soup.select(type_selector)\n",
    "            event_info.append(type_eles[0].text)\n",
    "\n",
    "            region_selector = \"div.medium-6.columns.event-top > a:nth-child(4)\"\n",
    "            region_eles = soup.select(region_selector)\n",
    "            event_info.append(region_eles[0].text)\n",
    "\n",
    "            writer.writerow(event_info)\n",
    "\n",
    "                            "
   ]
  },
  {
   "cell_type": "markdown",
   "metadata": {},
   "source": [
    "whether API"
   ]
  },
  {
   "cell_type": "code",
   "execution_count": 1,
   "metadata": {},
   "outputs": [],
   "source": [
    "import requests"
   ]
  },
  {
   "cell_type": "code",
   "execution_count": 2,
   "metadata": {},
   "outputs": [
    {
     "data": {
      "text/plain": [
       "<Response [200]>"
      ]
     },
     "execution_count": 2,
     "metadata": {},
     "output_type": "execute_result"
    }
   ],
   "source": [
    "url = \"https://api.weather.gov/points/39.7456,-97.0892\"\n",
    "res = requests.get(url)\n",
    "res"
   ]
  },
  {
   "cell_type": "code",
   "execution_count": 3,
   "metadata": {},
   "outputs": [
    {
     "data": {
      "text/plain": [
       "'{\\n    \"@context\": [\\n        \"https://geojson.org/geojson-ld/geojson-context.jsonld\",\\n        {\\n            \"@version\": \"1.1\",\\n            \"wx\": \"https://api.weather.gov/ontology#\",\\n            \"s\": \"https://schema.org/\",\\n            \"geo\": \"http://www.opengis.net/ont/geosparql#\",\\n            \"unit\": \"http://codes.wmo.int/common/unit/\",\\n            \"@vocab\": \"https://api.weather.gov/ontology#\",\\n            \"geometry\": {\\n                \"@id\": \"s:GeoCoordinates\",\\n                \"@type\": \"geo:wktLiteral\"\\n            },\\n            \"city\": \"s:addressLocality\",\\n            \"state\": \"s:addressRegion\",\\n            \"distance\": {\\n                \"@id\": \"s:Distance\",\\n                \"@type\": \"s:QuantitativeValue\"\\n            },\\n            \"bearing\": {\\n                \"@type\": \"s:QuantitativeValue\"\\n            },\\n            \"value\": {\\n                \"@id\": \"s:value\"\\n            },\\n            \"unitCode\": {\\n                \"@id\": \"s:unitCode\",\\n                \"@type\": \"@id\"\\n            },\\n            \"forecastOffice\": {\\n                \"@type\": \"@id\"\\n            },\\n            \"forecastGridData\": {\\n                \"@type\": \"@id\"\\n            },\\n            \"publicZone\": {\\n                \"@type\": \"@id\"\\n            },\\n            \"county\": {\\n                \"@type\": \"@id\"\\n            }\\n        }\\n    ],\\n    \"id\": \"https://api.weather.gov/points/39.7456,-97.0892\",\\n    \"type\": \"Feature\",\\n    \"geometry\": {\\n        \"type\": \"Point\",\\n        \"coordinates\": [\\n            -97.089200000000005,\\n            39.745600000000003\\n        ]\\n    },\\n    \"properties\": {\\n        \"@id\": \"https://api.weather.gov/points/39.7456,-97.0892\",\\n        \"@type\": \"wx:Point\",\\n        \"cwa\": \"TOP\",\\n        \"forecastOffice\": \"https://api.weather.gov/offices/TOP\",\\n        \"gridId\": \"TOP\",\\n        \"gridX\": 32,\\n        \"gridY\": 81,\\n        \"forecast\": \"https://api.weather.gov/gridpoints/TOP/32,81/forecast\",\\n        \"forecastHourly\": \"https://api.weather.gov/gridpoints/TOP/32,81/forecast/hourly\",\\n        \"forecastGridData\": \"https://api.weather.gov/gridpoints/TOP/32,81\",\\n        \"observationStations\": \"https://api.weather.gov/gridpoints/TOP/32,81/stations\",\\n        \"relativeLocation\": {\\n            \"type\": \"Feature\",\\n            \"geometry\": {\\n                \"type\": \"Point\",\\n                \"coordinates\": [\\n                    -97.086661000000007,\\n                    39.679375999999998\\n                ]\\n            },\\n            \"properties\": {\\n                \"city\": \"Linn\",\\n                \"state\": \"KS\",\\n                \"distance\": {\\n                    \"unitCode\": \"wmoUnit:m\",\\n                    \"value\": 7366.9851976443997\\n                },\\n                \"bearing\": {\\n                    \"unitCode\": \"wmoUnit:degree_(angle)\",\\n                    \"value\": 358\\n                }\\n            }\\n        },\\n        \"forecastZone\": \"https://api.weather.gov/zones/forecast/KSZ009\",\\n        \"county\": \"https://api.weather.gov/zones/county/KSC201\",\\n        \"fireWeatherZone\": \"https://api.weather.gov/zones/fire/KSZ009\",\\n        \"timeZone\": \"America/Chicago\",\\n        \"radarStation\": \"KTWX\"\\n    }\\n}'"
      ]
     },
     "execution_count": 3,
     "metadata": {},
     "output_type": "execute_result"
    }
   ],
   "source": [
    "res.text"
   ]
  },
  {
   "cell_type": "code",
   "execution_count": 4,
   "metadata": {},
   "outputs": [
    {
     "data": {
      "text/plain": [
       "{'@context': ['https://geojson.org/geojson-ld/geojson-context.jsonld',\n",
       "  {'@version': '1.1',\n",
       "   'wx': 'https://api.weather.gov/ontology#',\n",
       "   's': 'https://schema.org/',\n",
       "   'geo': 'http://www.opengis.net/ont/geosparql#',\n",
       "   'unit': 'http://codes.wmo.int/common/unit/',\n",
       "   '@vocab': 'https://api.weather.gov/ontology#',\n",
       "   'geometry': {'@id': 's:GeoCoordinates', '@type': 'geo:wktLiteral'},\n",
       "   'city': 's:addressLocality',\n",
       "   'state': 's:addressRegion',\n",
       "   'distance': {'@id': 's:Distance', '@type': 's:QuantitativeValue'},\n",
       "   'bearing': {'@type': 's:QuantitativeValue'},\n",
       "   'value': {'@id': 's:value'},\n",
       "   'unitCode': {'@id': 's:unitCode', '@type': '@id'},\n",
       "   'forecastOffice': {'@type': '@id'},\n",
       "   'forecastGridData': {'@type': '@id'},\n",
       "   'publicZone': {'@type': '@id'},\n",
       "   'county': {'@type': '@id'}}],\n",
       " 'id': 'https://api.weather.gov/points/39.7456,-97.0892',\n",
       " 'type': 'Feature',\n",
       " 'geometry': {'type': 'Point', 'coordinates': [-97.0892, 39.7456]},\n",
       " 'properties': {'@id': 'https://api.weather.gov/points/39.7456,-97.0892',\n",
       "  '@type': 'wx:Point',\n",
       "  'cwa': 'TOP',\n",
       "  'forecastOffice': 'https://api.weather.gov/offices/TOP',\n",
       "  'gridId': 'TOP',\n",
       "  'gridX': 32,\n",
       "  'gridY': 81,\n",
       "  'forecast': 'https://api.weather.gov/gridpoints/TOP/32,81/forecast',\n",
       "  'forecastHourly': 'https://api.weather.gov/gridpoints/TOP/32,81/forecast/hourly',\n",
       "  'forecastGridData': 'https://api.weather.gov/gridpoints/TOP/32,81',\n",
       "  'observationStations': 'https://api.weather.gov/gridpoints/TOP/32,81/stations',\n",
       "  'relativeLocation': {'type': 'Feature',\n",
       "   'geometry': {'type': 'Point', 'coordinates': [-97.086661, 39.679376]},\n",
       "   'properties': {'city': 'Linn',\n",
       "    'state': 'KS',\n",
       "    'distance': {'unitCode': 'wmoUnit:m', 'value': 7366.9851976444},\n",
       "    'bearing': {'unitCode': 'wmoUnit:degree_(angle)', 'value': 358}}},\n",
       "  'forecastZone': 'https://api.weather.gov/zones/forecast/KSZ009',\n",
       "  'county': 'https://api.weather.gov/zones/county/KSC201',\n",
       "  'fireWeatherZone': 'https://api.weather.gov/zones/fire/KSZ009',\n",
       "  'timeZone': 'America/Chicago',\n",
       "  'radarStation': 'KTWX'}}"
      ]
     },
     "execution_count": 4,
     "metadata": {},
     "output_type": "execute_result"
    }
   ],
   "source": [
    "point_dict = res.json()\n",
    "point_dict"
   ]
  },
  {
   "cell_type": "code",
   "execution_count": 5,
   "metadata": {},
   "outputs": [
    {
     "data": {
      "text/plain": [
       "dict_keys(['@context', 'id', 'type', 'geometry', 'properties'])"
      ]
     },
     "execution_count": 5,
     "metadata": {},
     "output_type": "execute_result"
    }
   ],
   "source": [
    "point_dict.keys()"
   ]
  },
  {
   "cell_type": "code",
   "execution_count": 6,
   "metadata": {},
   "outputs": [
    {
     "data": {
      "text/plain": [
       "'https://api.weather.gov/gridpoints/TOP/32,81/forecast'"
      ]
     },
     "execution_count": 6,
     "metadata": {},
     "output_type": "execute_result"
    }
   ],
   "source": [
    "forcast_url = point_dict['properties']['forecast']\n",
    "forcast_url"
   ]
  },
  {
   "cell_type": "code",
   "execution_count": 7,
   "metadata": {},
   "outputs": [
    {
     "data": {
      "text/plain": [
       "{'@context': ['https://geojson.org/geojson-ld/geojson-context.jsonld',\n",
       "  {'@version': '1.1',\n",
       "   'wx': 'https://api.weather.gov/ontology#',\n",
       "   'geo': 'http://www.opengis.net/ont/geosparql#',\n",
       "   'unit': 'http://codes.wmo.int/common/unit/',\n",
       "   '@vocab': 'https://api.weather.gov/ontology#'}],\n",
       " 'type': 'Feature',\n",
       " 'geometry': {'type': 'Polygon',\n",
       "  'coordinates': [[[-97.1089731, 39.7668263],\n",
       "    [-97.1085269, 39.7447788],\n",
       "    [-97.0798467, 39.7451195],\n",
       "    [-97.08028680000001, 39.767167],\n",
       "    [-97.1089731, 39.7668263]]]},\n",
       " 'properties': {'updated': '2024-01-16T23:26:28+00:00',\n",
       "  'units': 'us',\n",
       "  'forecastGenerator': 'BaselineForecastGenerator',\n",
       "  'generatedAt': '2024-01-17T00:13:07+00:00',\n",
       "  'updateTime': '2024-01-16T23:26:28+00:00',\n",
       "  'validTimes': '2024-01-16T17:00:00+00:00/P7DT11H',\n",
       "  'elevation': {'unitCode': 'wmoUnit:m', 'value': 441.96},\n",
       "  'periods': [{'number': 1,\n",
       "    'name': 'Tonight',\n",
       "    'startTime': '2024-01-16T18:00:00-06:00',\n",
       "    'endTime': '2024-01-17T06:00:00-06:00',\n",
       "    'isDaytime': False,\n",
       "    'temperature': 3,\n",
       "    'temperatureUnit': 'F',\n",
       "    'temperatureTrend': None,\n",
       "    'probabilityOfPrecipitation': {'unitCode': 'wmoUnit:percent',\n",
       "     'value': None},\n",
       "    'dewpoint': {'unitCode': 'wmoUnit:degC', 'value': -15},\n",
       "    'relativeHumidity': {'unitCode': 'wmoUnit:percent', 'value': 100},\n",
       "    'windSpeed': '10 to 15 mph',\n",
       "    'windDirection': 'SW',\n",
       "    'icon': 'https://api.weather.gov/icons/land/night/cold?size=medium',\n",
       "    'shortForecast': 'Mostly Clear',\n",
       "    'detailedForecast': 'Mostly clear, with a low around 3. Wind chill values as low as -13. Southwest wind 10 to 15 mph, with gusts as high as 20 mph.'},\n",
       "   {'number': 2,\n",
       "    'name': 'Wednesday',\n",
       "    'startTime': '2024-01-17T06:00:00-06:00',\n",
       "    'endTime': '2024-01-17T18:00:00-06:00',\n",
       "    'isDaytime': True,\n",
       "    'temperature': 28,\n",
       "    'temperatureUnit': 'F',\n",
       "    'temperatureTrend': None,\n",
       "    'probabilityOfPrecipitation': {'unitCode': 'wmoUnit:percent',\n",
       "     'value': None},\n",
       "    'dewpoint': {'unitCode': 'wmoUnit:degC', 'value': -6.111111111111111},\n",
       "    'relativeHumidity': {'unitCode': 'wmoUnit:percent', 'value': 91},\n",
       "    'windSpeed': '5 to 10 mph',\n",
       "    'windDirection': 'S',\n",
       "    'icon': 'https://api.weather.gov/icons/land/day/few?size=medium',\n",
       "    'shortForecast': 'Sunny',\n",
       "    'detailedForecast': 'Sunny, with a high near 28. Wind chill values as low as -7. South wind 5 to 10 mph.'},\n",
       "   {'number': 3,\n",
       "    'name': 'Wednesday Night',\n",
       "    'startTime': '2024-01-17T18:00:00-06:00',\n",
       "    'endTime': '2024-01-18T06:00:00-06:00',\n",
       "    'isDaytime': False,\n",
       "    'temperature': 9,\n",
       "    'temperatureUnit': 'F',\n",
       "    'temperatureTrend': None,\n",
       "    'probabilityOfPrecipitation': {'unitCode': 'wmoUnit:percent', 'value': 20},\n",
       "    'dewpoint': {'unitCode': 'wmoUnit:degC', 'value': -6.666666666666667},\n",
       "    'relativeHumidity': {'unitCode': 'wmoUnit:percent', 'value': 100},\n",
       "    'windSpeed': '5 to 10 mph',\n",
       "    'windDirection': 'NE',\n",
       "    'icon': 'https://api.weather.gov/icons/land/night/snow,20/snow?size=medium',\n",
       "    'shortForecast': 'Slight Chance Light Snow then Chance Snow Showers',\n",
       "    'detailedForecast': 'A slight chance of snow before midnight, then a chance of snow showers. Mostly cloudy, with a low around 9. Wind chill values as low as -1. Northeast wind 5 to 10 mph. Chance of precipitation is 20%.'},\n",
       "   {'number': 4,\n",
       "    'name': 'Thursday',\n",
       "    'startTime': '2024-01-18T06:00:00-06:00',\n",
       "    'endTime': '2024-01-18T18:00:00-06:00',\n",
       "    'isDaytime': True,\n",
       "    'temperature': 18,\n",
       "    'temperatureUnit': 'F',\n",
       "    'temperatureTrend': None,\n",
       "    'probabilityOfPrecipitation': {'unitCode': 'wmoUnit:percent', 'value': 20},\n",
       "    'dewpoint': {'unitCode': 'wmoUnit:degC', 'value': -8.88888888888889},\n",
       "    'relativeHumidity': {'unitCode': 'wmoUnit:percent', 'value': 100},\n",
       "    'windSpeed': '10 mph',\n",
       "    'windDirection': 'N',\n",
       "    'icon': 'https://api.weather.gov/icons/land/day/bkn/snow,20?size=medium',\n",
       "    'shortForecast': 'Mostly Cloudy then Slight Chance Light Snow',\n",
       "    'detailedForecast': 'A slight chance of snow after noon. Mostly cloudy, with a high near 18. Wind chill values as low as -3. North wind around 10 mph. Chance of precipitation is 20%.'},\n",
       "   {'number': 5,\n",
       "    'name': 'Thursday Night',\n",
       "    'startTime': '2024-01-18T18:00:00-06:00',\n",
       "    'endTime': '2024-01-19T06:00:00-06:00',\n",
       "    'isDaytime': False,\n",
       "    'temperature': -1,\n",
       "    'temperatureUnit': 'F',\n",
       "    'temperatureTrend': None,\n",
       "    'probabilityOfPrecipitation': {'unitCode': 'wmoUnit:percent', 'value': 20},\n",
       "    'dewpoint': {'unitCode': 'wmoUnit:degC', 'value': -10.555555555555555},\n",
       "    'relativeHumidity': {'unitCode': 'wmoUnit:percent', 'value': 92},\n",
       "    'windSpeed': '10 to 20 mph',\n",
       "    'windDirection': 'N',\n",
       "    'icon': 'https://api.weather.gov/icons/land/night/snow,20/cold?size=medium',\n",
       "    'shortForecast': 'Slight Chance Light Snow then Mostly Cloudy',\n",
       "    'detailedForecast': 'A slight chance of snow before midnight. Mostly cloudy, with a low around -1. North wind 10 to 20 mph, with gusts as high as 30 mph. Chance of precipitation is 20%.'},\n",
       "   {'number': 6,\n",
       "    'name': 'Friday',\n",
       "    'startTime': '2024-01-19T06:00:00-06:00',\n",
       "    'endTime': '2024-01-19T18:00:00-06:00',\n",
       "    'isDaytime': True,\n",
       "    'temperature': 7,\n",
       "    'temperatureUnit': 'F',\n",
       "    'temperatureTrend': None,\n",
       "    'probabilityOfPrecipitation': {'unitCode': 'wmoUnit:percent',\n",
       "     'value': None},\n",
       "    'dewpoint': {'unitCode': 'wmoUnit:degC', 'value': -17.22222222222222},\n",
       "    'relativeHumidity': {'unitCode': 'wmoUnit:percent', 'value': 91},\n",
       "    'windSpeed': '10 to 15 mph',\n",
       "    'windDirection': 'NW',\n",
       "    'icon': 'https://api.weather.gov/icons/land/day/cold?size=medium',\n",
       "    'shortForecast': 'Sunny',\n",
       "    'detailedForecast': 'Sunny, with a high near 7. Northwest wind 10 to 15 mph, with gusts as high as 25 mph.'},\n",
       "   {'number': 7,\n",
       "    'name': 'Friday Night',\n",
       "    'startTime': '2024-01-19T18:00:00-06:00',\n",
       "    'endTime': '2024-01-20T06:00:00-06:00',\n",
       "    'isDaytime': False,\n",
       "    'temperature': -17,\n",
       "    'temperatureUnit': 'F',\n",
       "    'temperatureTrend': None,\n",
       "    'probabilityOfPrecipitation': {'unitCode': 'wmoUnit:percent',\n",
       "     'value': None},\n",
       "    'dewpoint': {'unitCode': 'wmoUnit:degC', 'value': -18.88888888888889},\n",
       "    'relativeHumidity': {'unitCode': 'wmoUnit:percent', 'value': 100},\n",
       "    'windSpeed': '5 to 10 mph',\n",
       "    'windDirection': 'N',\n",
       "    'icon': 'https://api.weather.gov/icons/land/night/cold?size=medium',\n",
       "    'shortForecast': 'Mostly Clear',\n",
       "    'detailedForecast': 'Mostly clear, with a low around -17. North wind 5 to 10 mph.'},\n",
       "   {'number': 8,\n",
       "    'name': 'Saturday',\n",
       "    'startTime': '2024-01-20T06:00:00-06:00',\n",
       "    'endTime': '2024-01-20T18:00:00-06:00',\n",
       "    'isDaytime': True,\n",
       "    'temperature': 10,\n",
       "    'temperatureUnit': 'F',\n",
       "    'temperatureTrend': None,\n",
       "    'probabilityOfPrecipitation': {'unitCode': 'wmoUnit:percent',\n",
       "     'value': None},\n",
       "    'dewpoint': {'unitCode': 'wmoUnit:degC', 'value': -16.11111111111111},\n",
       "    'relativeHumidity': {'unitCode': 'wmoUnit:percent', 'value': 100},\n",
       "    'windSpeed': '5 to 10 mph',\n",
       "    'windDirection': 'SE',\n",
       "    'icon': 'https://api.weather.gov/icons/land/day/cold?size=medium',\n",
       "    'shortForecast': 'Mostly Sunny',\n",
       "    'detailedForecast': 'Mostly sunny, with a high near 10. Southeast wind 5 to 10 mph.'},\n",
       "   {'number': 9,\n",
       "    'name': 'Saturday Night',\n",
       "    'startTime': '2024-01-20T18:00:00-06:00',\n",
       "    'endTime': '2024-01-21T06:00:00-06:00',\n",
       "    'isDaytime': False,\n",
       "    'temperature': 3,\n",
       "    'temperatureUnit': 'F',\n",
       "    'temperatureTrend': None,\n",
       "    'probabilityOfPrecipitation': {'unitCode': 'wmoUnit:percent',\n",
       "     'value': None},\n",
       "    'dewpoint': {'unitCode': 'wmoUnit:degC', 'value': -13.88888888888889},\n",
       "    'relativeHumidity': {'unitCode': 'wmoUnit:percent', 'value': 96},\n",
       "    'windSpeed': '10 to 15 mph',\n",
       "    'windDirection': 'SE',\n",
       "    'icon': 'https://api.weather.gov/icons/land/night/cold?size=medium',\n",
       "    'shortForecast': 'Mostly Cloudy',\n",
       "    'detailedForecast': 'Mostly cloudy, with a low around 3. Southeast wind 10 to 15 mph, with gusts as high as 25 mph.'},\n",
       "   {'number': 10,\n",
       "    'name': 'Sunday',\n",
       "    'startTime': '2024-01-21T06:00:00-06:00',\n",
       "    'endTime': '2024-01-21T18:00:00-06:00',\n",
       "    'isDaytime': True,\n",
       "    'temperature': 31,\n",
       "    'temperatureUnit': 'F',\n",
       "    'temperatureTrend': None,\n",
       "    'probabilityOfPrecipitation': {'unitCode': 'wmoUnit:percent',\n",
       "     'value': None},\n",
       "    'dewpoint': {'unitCode': 'wmoUnit:degC', 'value': -4.444444444444445},\n",
       "    'relativeHumidity': {'unitCode': 'wmoUnit:percent', 'value': 88},\n",
       "    'windSpeed': '15 to 20 mph',\n",
       "    'windDirection': 'S',\n",
       "    'icon': 'https://api.weather.gov/icons/land/day/bkn?size=medium',\n",
       "    'shortForecast': 'Partly Sunny',\n",
       "    'detailedForecast': 'Partly sunny, with a high near 31.'},\n",
       "   {'number': 11,\n",
       "    'name': 'Sunday Night',\n",
       "    'startTime': '2024-01-21T18:00:00-06:00',\n",
       "    'endTime': '2024-01-22T06:00:00-06:00',\n",
       "    'isDaytime': False,\n",
       "    'temperature': 26,\n",
       "    'temperatureUnit': 'F',\n",
       "    'temperatureTrend': None,\n",
       "    'probabilityOfPrecipitation': {'unitCode': 'wmoUnit:percent',\n",
       "     'value': None},\n",
       "    'dewpoint': {'unitCode': 'wmoUnit:degC', 'value': -2.7777777777777777},\n",
       "    'relativeHumidity': {'unitCode': 'wmoUnit:percent', 'value': 99},\n",
       "    'windSpeed': '15 to 20 mph',\n",
       "    'windDirection': 'S',\n",
       "    'icon': 'https://api.weather.gov/icons/land/night/bkn?size=medium',\n",
       "    'shortForecast': 'Mostly Cloudy',\n",
       "    'detailedForecast': 'Mostly cloudy, with a low around 26.'},\n",
       "   {'number': 12,\n",
       "    'name': 'Monday',\n",
       "    'startTime': '2024-01-22T06:00:00-06:00',\n",
       "    'endTime': '2024-01-22T18:00:00-06:00',\n",
       "    'isDaytime': True,\n",
       "    'temperature': 38,\n",
       "    'temperatureUnit': 'F',\n",
       "    'temperatureTrend': None,\n",
       "    'probabilityOfPrecipitation': {'unitCode': 'wmoUnit:percent',\n",
       "     'value': None},\n",
       "    'dewpoint': {'unitCode': 'wmoUnit:degC', 'value': 1.6666666666666667},\n",
       "    'relativeHumidity': {'unitCode': 'wmoUnit:percent', 'value': 100},\n",
       "    'windSpeed': '15 mph',\n",
       "    'windDirection': 'S',\n",
       "    'icon': 'https://api.weather.gov/icons/land/day/bkn?size=medium',\n",
       "    'shortForecast': 'Mostly Cloudy',\n",
       "    'detailedForecast': 'Mostly cloudy, with a high near 38.'},\n",
       "   {'number': 13,\n",
       "    'name': 'Monday Night',\n",
       "    'startTime': '2024-01-22T18:00:00-06:00',\n",
       "    'endTime': '2024-01-23T06:00:00-06:00',\n",
       "    'isDaytime': False,\n",
       "    'temperature': 32,\n",
       "    'temperatureUnit': 'F',\n",
       "    'temperatureTrend': None,\n",
       "    'probabilityOfPrecipitation': {'unitCode': 'wmoUnit:percent', 'value': 20},\n",
       "    'dewpoint': {'unitCode': 'wmoUnit:degC', 'value': 1.6666666666666667},\n",
       "    'relativeHumidity': {'unitCode': 'wmoUnit:percent', 'value': 100},\n",
       "    'windSpeed': '10 mph',\n",
       "    'windDirection': 'S',\n",
       "    'icon': 'https://api.weather.gov/icons/land/night/rain,20?size=medium',\n",
       "    'shortForecast': 'Slight Chance Light Rain',\n",
       "    'detailedForecast': 'A slight chance of rain. Mostly cloudy, with a low around 32. Chance of precipitation is 20%.'},\n",
       "   {'number': 14,\n",
       "    'name': 'Tuesday',\n",
       "    'startTime': '2024-01-23T06:00:00-06:00',\n",
       "    'endTime': '2024-01-23T18:00:00-06:00',\n",
       "    'isDaytime': True,\n",
       "    'temperature': 40,\n",
       "    'temperatureUnit': 'F',\n",
       "    'temperatureTrend': None,\n",
       "    'probabilityOfPrecipitation': {'unitCode': 'wmoUnit:percent', 'value': 20},\n",
       "    'dewpoint': {'unitCode': 'wmoUnit:degC', 'value': 3.3333333333333335},\n",
       "    'relativeHumidity': {'unitCode': 'wmoUnit:percent', 'value': 100},\n",
       "    'windSpeed': '10 mph',\n",
       "    'windDirection': 'SE',\n",
       "    'icon': 'https://api.weather.gov/icons/land/day/rain,20?size=medium',\n",
       "    'shortForecast': 'Slight Chance Light Rain',\n",
       "    'detailedForecast': 'A slight chance of rain. Mostly cloudy, with a high near 40. Chance of precipitation is 20%.'}]}}"
      ]
     },
     "execution_count": 7,
     "metadata": {},
     "output_type": "execute_result"
    }
   ],
   "source": [
    "res = requests.get(forcast_url)\n",
    "res.json()"
   ]
  },
  {
   "cell_type": "code",
   "execution_count": 8,
   "metadata": {},
   "outputs": [
    {
     "data": {
      "text/plain": [
       "[{'place_id': 312844859,\n",
       "  'licence': 'Data © OpenStreetMap contributors, ODbL 1.0. http://osm.org/copyright',\n",
       "  'osm_type': 'node',\n",
       "  'osm_id': 150973716,\n",
       "  'lat': '47.6594631',\n",
       "  'lon': '-122.3343417',\n",
       "  'category': 'place',\n",
       "  'type': 'suburb',\n",
       "  'place_rank': 19,\n",
       "  'importance': 0.3131791431958073,\n",
       "  'addresstype': 'suburb',\n",
       "  'name': 'Wallingford',\n",
       "  'display_name': 'Wallingford, Seattle, King County, Washington, 98015, United States',\n",
       "  'boundingbox': ['47.6394631', '47.6794631', '-122.3543417', '-122.3143417']}]"
      ]
     },
     "execution_count": 8,
     "metadata": {},
     "output_type": "execute_result"
    }
   ],
   "source": [
    "# location name to lat lon\n",
    "\n",
    "# Option 1: just string manipulation\n",
    "base_url = \"https://nominatim.openstreetmap.org/search.php\"\n",
    "query_params_str = \"?q=Wallingford%2C+Seattle&format=jsonv2\"\n",
    "ful_url = base_url + query_params_str\n",
    "# Option 2: use dictionary to represent query params\n",
    "#           use requests.get(url, params=query_params) to attach the query param dict\n",
    "query_params = {\n",
    "    \"q\": \"Wallingford, Seattle\",\n",
    "    \"format\": \"jsonv2\"\n",
    "}\n",
    "\n",
    "res = requests.get(base_url, params=query_params)\n",
    "res.json()"
   ]
  }
 ],
 "metadata": {
  "kernelspec": {
   "display_name": "base",
   "language": "python",
   "name": "python3"
  },
  "language_info": {
   "codemirror_mode": {
    "name": "ipython",
    "version": 3
   },
   "file_extension": ".py",
   "mimetype": "text/x-python",
   "name": "python",
   "nbconvert_exporter": "python",
   "pygments_lexer": "ipython3",
   "version": "3.11.5"
  }
 },
 "nbformat": 4,
 "nbformat_minor": 2
}
